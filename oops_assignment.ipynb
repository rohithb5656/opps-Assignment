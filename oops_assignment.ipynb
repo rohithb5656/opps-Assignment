{
  "nbformat": 4,
  "nbformat_minor": 0,
  "metadata": {
    "colab": {
      "provenance": []
    },
    "kernelspec": {
      "name": "python3",
      "display_name": "Python 3"
    },
    "language_info": {
      "name": "python"
    }
  },
  "cells": [
    {
      "cell_type": "code",
      "execution_count": null,
      "metadata": {
        "id": "BF2XwkVz1y3z"
      },
      "outputs": [],
      "source": []
    },
    {
      "cell_type": "markdown",
      "source": [
        "1. What is Object-Oriented Programming (OOP)?\n",
        "\n",
        "Ans: Object-Oriented Programming (OOP) is a programming paradigm (way of writing code) that is based on the concept of “objects”.\n",
        "\n",
        "These objects are real-world entities that have:\n",
        "\n",
        "Attributes (data) — stored in variables called properties\n",
        "\n",
        "Behaviors (functions) — written as methods\n",
        "\n",
        "\n",
        "2. What is a class in OOP?\n",
        "\n",
        "Ans: A class is the blueprint or template used to create objects in Object-Oriented Programming (OOP).\n",
        "\n",
        "It defines:\n",
        "\n",
        "The attributes (also called variables or properties)\n",
        "\n",
        "The methods (functions) that the object will have\n",
        "\n",
        "\n",
        "3. What is an object in OOP?\n",
        "\n",
        "Ans: An object is an instance of a class. It is the real-world entity that gets created using a class blueprint.\n",
        "\n",
        "4. What is the difference between abstraction and encapsulation?\n",
        "\n",
        "Ans: a. Abstraction means hiding unnecessary details and showing only the essential features of an object. It helps to reduce complexity and focus on what an object does instead of how it does it.\n",
        "\n",
        "b. Encapsulation means binding data and methods into a single unit (a class) and restricting access to some components. It protects the internal data from being directly accessed or modified.\n",
        "\n",
        "5. What are dunder methods in Python?\n",
        "\n",
        "Ans: Dunder methods (also called magic methods) in Python are special methods that begin and end with double underscores (__), like __init__, __str__, and __len__.\n",
        "\n",
        "They are automatically called by Python in certain situations and allow us to define how objects of a class should behave with built-in functions or operators.\n",
        "\n",
        "6. Explain the concept of inheritance in OOP.\n",
        "\n",
        "Ans: Inheritance is an object-oriented programming (OOP) concept that allows a class (child or subclass) to inherit properties and methods from another class (parent or superclass).\n",
        "\n",
        "It helps in code reuse, avoids duplication, and creates a relationship between classes.\n",
        "\n",
        "7. What is polymorphism in OOP.\n",
        "\n",
        "ANs: Polymorphism means \"many forms\". In object-oriented programming, it allows methods or functions to behave differently based on the object or data they are working with.\n",
        "\n",
        "It allows the same method name to perform different tasks depending on the object (class) that calls it.\n",
        "\n",
        "8. How is encapsulation achieved in Python.\n",
        "\n",
        "Ans: Encapsulation is the concept of wrapping data (variables) and methods (functions) into a single unit, usually a class. It helps to protect data from outside interference and misuse.\n",
        "\n",
        "In Python, encapsulation is achieved using access modifiers:\n",
        "\n",
        "9. What is a constructor in Python.\n",
        "\n",
        "Ans: A constructor in Python is a special method used to initialize objects of a class. It gets called automatically when an object is created.\n",
        "\n",
        "10. What are class and static methods in Python.\n",
        "\n",
        "Ans: A class method is a method that is bound to the class and not the object (instance). It takes cls as its first parameter, which represents the class itself, and not the instance.\n",
        "\n",
        "Ex: class Student:\n",
        "    school = \"ABC School\"\n",
        "\n",
        "    @classmethod\n",
        "    def change_school(cls, name):\n",
        "        cls.school = name\n",
        "\n",
        "Student.change_school(\"XYZ School\")\n",
        "print(Student.school)  # Output: XYZ School\n",
        "\n",
        "\n",
        "A static method does not take self or cls as its first argument. It behaves like a regular function but resides in the class’s namespace. It’s used when you want to logically group a function with a class, but the function doesn't need access to class or instance attributes.\n",
        "\n",
        "Ex: class MathHelper:\n",
        "\n",
        "    @staticmethod\n",
        "    def add(a, b):\n",
        "        return a + b\n",
        "\n",
        "print(MathHelper.add(5, 3))  # Output: 8\n",
        "\n",
        "\n",
        "11. What is method overloading in Python\n",
        "\n",
        "Ans: Method overloading in Python means creating a method that can perform different tasks based on the number or type of arguments.\n",
        "\n",
        "ex: class Calculator:\n",
        "    def add(self, a=0, b=0, c=0):\n",
        "        return a + b + c\n",
        "\n",
        "calc = Calculator()\n",
        "print(calc.add(5))         # Output: 5\n",
        "print(calc.add(5, 10))     # Output: 15\n",
        "print(calc.add(5, 10, 15)) # Output: 30\n",
        "\n",
        "\n",
        "12. What is method overriding in OOP\n",
        "\n",
        "Ans: Method overriding in Python means redefining a method in the child class that is already defined in the parent class.\n",
        "\n",
        "ex: class Animal:\n",
        "    def sound(self):\n",
        "        print(\"Animal makes a sound\")\n",
        "\n",
        "class Dog(Animal):\n",
        "    def sound(self):\n",
        "        print(\"Dog barks\")\n",
        "\n",
        "d = Dog()\n",
        "d.sound()  # Output: Dog barks\n",
        "\n",
        "\n",
        "13. What is a property decorator in Python\n",
        "\n",
        "Ans: The @property decorator in Python is used to turn a method into a \"getter\" for a class attribute.\n",
        "It allows you to access a method like an attribute — without using parentheses ().\n",
        "\n",
        "ex: class Student:\n",
        "    def __init__(self, name):\n",
        "        self._name = name\n",
        "\n",
        "    @property\n",
        "    def name(self):\n",
        "        return self._name\n",
        "\n",
        "s = Student(\"Suraj\")\n",
        "print(s.name)  # Output: Suraj\n",
        "\n",
        "14. Why is polymorphism important in OOP\n",
        "\n",
        "Ans: Polymorphism in Object-Oriented Programming (OOP) means the same function or method can behave differently depending on the object that calls it.\n",
        "\n",
        "15. What is an abstract class in Python\n",
        "\n",
        "Ans: An abstract class in Python is a class that cannot be directly instantiated and is used to define a common interface for its subclasses. It often contains one or more abstract methods—methods that must be implemented in any subclass.\n",
        "\n",
        "16. What are the advantages of OOP\n",
        "Ans: The advantage of oops are:-\n",
        "a. Code is easy to manage\n",
        "b. We can reuse code using inheritance\n",
        "c. Helps keep data safe with encapsulation\n",
        "d. Makes code flexible using polymorphism\n",
        "e. Good for building large and complex programs\n",
        "f. Easy to update and fix bugs\n",
        "\n",
        "17. What is the difference between a class variable and an instance variable\n",
        "\n",
        "Ans: Class Variable :\n",
        "a. Shared by all objects of the class.\n",
        "b. Defined inside the class, but outside any methods.\n",
        "\n",
        "Instance Variable:\n",
        "a. Unique to each object.\n",
        "b. Defined inside methods, usually in __init__.\n",
        "\n",
        "18. What is multiple inheritance in Python\n",
        "Ans: Multiple inheritance in Python means a class can inherit features from more than one parent class.\n",
        "\n",
        "19.  Explain the purpose of ‘’__str__’ and ‘__repr__’ ‘ methods in Python\n",
        "Ans:  __str__ method:\n",
        "a. Used to return a readable or user-friendly string of the object.\n",
        "b. Called when you use print() or str() on the object.\n",
        "\n",
        " __repr__ method:\n",
        "a. Returns a developer-friendly string with more detail.\n",
        "b. Called when you use repr() or just type the object in the shell.\n",
        "\n",
        "20. What is the significance of the ‘super()’ function in Python\n",
        "Ans: The super() function in Python is used to call methods from a parent class. It helps when a child class wants to reuse the functionality of its parent.\n",
        "\n",
        "21. What is the significance of the __del__ method in Python\n",
        "Ans: __del__ is a special function in a Python class.\n",
        "It runs when the object is about to be deleted (removed from memory).\n",
        "\n",
        "22. What is the difference between @staticmethod and @classmethod in Python\n",
        "Ans: @staticmethod: A method that does not know about the class or the object. It’s just a normal function inside the class.\n",
        "\n",
        "@classmethod: A method that knows about the class and can change class variables or create new objects.\n",
        "\n",
        "23. How does polymorphism work in Python with inheritance+\n",
        "Ans: olymorphism means different classes can have methods with the same name.\n",
        "When you call that method on an object, Python runs the version of the method for that object's class — even if you’re working with a parent class reference.\n",
        "\n",
        "ex: class Animal:\n",
        "    def sound(self):\n",
        "        print(\"Animal makes a sound\")\n",
        "\n",
        "class Dog(Animal):\n",
        "    def sound(self):\n",
        "        print(\"Dog barks\")\n",
        "\n",
        "class Cat(Animal):\n",
        "    def sound(self):\n",
        "        print(\"Cat meows\")\n",
        "\n",
        "def make_sound(animal):\n",
        "    animal.sound()  # Calls the method for the actual object's class\n",
        "\n",
        "dog = Dog()\n",
        "cat = Cat()\n",
        "\n",
        "make_sound(dog)  # Output: Dog barks\n",
        "make_sound(cat)  # Output: Cat meows\n",
        "\n",
        "\n",
        "24. What is method chaining in Python OOP\n",
        "Ans: Method chaining means calling multiple methods one after another on the same object in a single line.\n",
        "\n",
        "Each method returns the object itself (self), so you can keep calling another method right after.\n",
        "\n",
        "ex: class Car:\n",
        "    def start(self):\n",
        "        print(\"Car started\")\n",
        "        return self  # Return the object to allow chaining\n",
        "\n",
        "    def drive(self):\n",
        "        print(\"Car is driving\")\n",
        "        return self\n",
        "\n",
        "    def stop(self):\n",
        "        print(\"Car stopped\")\n",
        "        return self\n",
        "\n",
        "# Method chaining in action\n",
        "car = Car()\n",
        "car.start().drive().stop()\n",
        "\n",
        "\n",
        "25. What is the purpose of the __call__ method in Python?\n",
        "Ans: __call__ is a special method you can add to a class.\n",
        "It lets you make an instance of the class behave like a function.\n",
        "To make objects that can be called like functions.\n",
        "\n",
        "\n"
      ],
      "metadata": {
        "id": "5WyEpUcrtvhD"
      }
    },
    {
      "cell_type": "code",
      "source": [
        "#1.  Create a parent class Animal with a method speak() that prints a generic message. Create a child class Dog that overrides the speak() method to print \"Bark!\".\n",
        "\n",
        "class animal():\n",
        "    def speak(self):\n",
        "      print(\"speaks out\")\n",
        "\n",
        "class Dog(animal):\n",
        "    def speak(self):\n",
        "      print(\"Bark!\")\n",
        "\n",
        "\n",
        "obj1 = Dog()\n",
        "obj1.speak()"
      ],
      "metadata": {
        "colab": {
          "base_uri": "https://localhost:8080/"
        },
        "id": "YXEUEZsyP6sn",
        "outputId": "f2a676f2-0751-4f49-d61f-348d40b76009"
      },
      "execution_count": null,
      "outputs": [
        {
          "output_type": "stream",
          "name": "stdout",
          "text": [
            "Bark!\n"
          ]
        }
      ]
    },
    {
      "cell_type": "code",
      "source": [
        "#2. Write a program to create an abstract class Shape with a method area(). Derive classes Circle and Rectangle from it and implement the area() method in both.\n",
        "\n",
        "import abc\n",
        "class shape:\n",
        "  @abc.abstractmethod\n",
        "  def area(self):\n",
        "    pass\n",
        "\n",
        "  def test(self):\n",
        "    pass\n",
        "\n",
        "class circle(shape):\n",
        "  def __init__(self, radius):\n",
        "    self.radius = radius\n",
        "\n",
        "  def area(self):\n",
        "    return \"Area of circle :\",3.14 * (self.radius*self.radius)\n",
        "\n",
        "class rectangle(shape):\n",
        "  def __init__(self, length, width):\n",
        "    self.length = length\n",
        "    self.width = width\n",
        "\n",
        "  def area(self):\n",
        "    return \"Area of rectangle :\",self.length * self.width\n",
        "\n",
        "\n",
        "cirl = circle(5)\n",
        "cirl.area()\n",
        "\n",
        "rect = rectangle(5,10)\n",
        "rect.area()\n",
        "# cirl.test()#no error if method is not defined."
      ],
      "metadata": {
        "id": "BIIutKu6T-kc",
        "colab": {
          "base_uri": "https://localhost:8080/"
        },
        "outputId": "2224b0de-64ed-4d37-a5ec-d70d82ea17a4"
      },
      "execution_count": 9,
      "outputs": [
        {
          "output_type": "execute_result",
          "data": {
            "text/plain": [
              "('Area of rectangle :', 50)"
            ]
          },
          "metadata": {},
          "execution_count": 9
        }
      ]
    },
    {
      "cell_type": "code",
      "source": [
        "#3. Implement a multi-level inheritance scenario where a class Vehicle has an attribute type. Derive a class Car and further derive a class ElectricCar that adds a battery attribute.\n",
        "\n",
        "class Vehicle:\n",
        "    def __init__(self, type):\n",
        "        self.type = type\n",
        "\n",
        "class Car(Vehicle):\n",
        "    def Car_property(self):\n",
        "        print(\"This is car method\")\n",
        "\n",
        "class ElectricCar(Car):\n",
        "    def __init__(self, type, battery):\n",
        "        super().__init__(type)  # Call parent constructor to set `type`\n",
        "        self.battery = battery\n",
        "\n",
        "    def Electric_car_property(self):\n",
        "        print(\"This is electric car property\")\n",
        "        print(\"Vehicle type:\", self.type)\n",
        "        print(\"Battery watts is:\", self.battery)\n",
        "\n",
        "# Create an object of ElectricCar\n",
        "elc_car = ElectricCar(\"Electric\", 1000)\n",
        "elc_car.Electric_car_property()\n"
      ],
      "metadata": {
        "colab": {
          "base_uri": "https://localhost:8080/"
        },
        "id": "ytcdN3P8wsfU",
        "outputId": "15c31c04-4bd5-4cd0-94ea-20173afd377d"
      },
      "execution_count": 14,
      "outputs": [
        {
          "output_type": "stream",
          "name": "stdout",
          "text": [
            "This is electric car property\n",
            "Vehicle type: Electric\n",
            "Battery watts is: 1000\n"
          ]
        }
      ]
    },
    {
      "cell_type": "code",
      "source": [
        "#4. Demonstrate polymorphism by creating a base class Bird with a method fly(). Create two derived classes Sparrow and Penguin that override the fly() method.\n",
        "\n",
        "class Bird():\n",
        "  def fly(self):\n",
        "    print(\"This is fly method\")\n",
        "\n",
        "class sparrow(Bird):\n",
        "  def fly(self):\n",
        "    print(\"this is spaarow method\")\n",
        "\n",
        "class Penguin(Bird):\n",
        "  def fly(self):\n",
        "    print(\"This is penguin method\")\n",
        "\n",
        "\n",
        "spar = sparrow()\n",
        "spar.fly()\n",
        "\n",
        "pen = Penguin()\n",
        "pen.fly()"
      ],
      "metadata": {
        "colab": {
          "base_uri": "https://localhost:8080/"
        },
        "id": "3jKv0dsu2Yht",
        "outputId": "e968bfed-5b21-4db2-dac8-902714db415c"
      },
      "execution_count": 18,
      "outputs": [
        {
          "output_type": "stream",
          "name": "stdout",
          "text": [
            "this is spaarow method\n",
            "This is penguin method\n"
          ]
        }
      ]
    },
    {
      "cell_type": "code",
      "source": [
        "#5. Write a program to demonstrate encapsulation by creating a class BankAccount with private attributes balance and methods to deposit, withdraw, and check balance.\n",
        "\n",
        "class BankAccount:\n",
        "    def __init__(self):\n",
        "        self.__balance = 0  # Private attribute\n",
        "\n",
        "    def deposit(self, amount):\n",
        "        if amount > 0:\n",
        "            self.__balance += amount\n",
        "            print(f\"Deposited ₹{amount}\")\n",
        "        else:\n",
        "            print(\"Invalid deposit amount\")\n",
        "\n",
        "    def withdraw(self, amount):\n",
        "        if 0 < amount <= self.__balance:\n",
        "            self.__balance -= amount\n",
        "            print(f\"Withdrew ₹{amount}\")\n",
        "        else:\n",
        "            print(\"Insufficient balance or invalid amount\")\n",
        "\n",
        "    def check_balance(self):\n",
        "        print(f\"Current Balance: ₹{self.__balance}\")\n",
        "\n",
        "# Using the BankAccount class\n",
        "account = BankAccount()\n",
        "\n",
        "account.deposit(1000)\n",
        "account.withdraw(300)\n",
        "account.check_balance()\n",
        "account._BankAccount__balance"
      ],
      "metadata": {
        "colab": {
          "base_uri": "https://localhost:8080/"
        },
        "id": "9AvYOkuz4fmv",
        "outputId": "8458039b-de87-45ef-b39d-a76d161ebdaa"
      },
      "execution_count": 21,
      "outputs": [
        {
          "output_type": "stream",
          "name": "stdout",
          "text": [
            "Deposited ₹1000\n",
            "Withdrew ₹300\n",
            "Current Balance: ₹700\n"
          ]
        },
        {
          "output_type": "execute_result",
          "data": {
            "text/plain": [
              "700"
            ]
          },
          "metadata": {},
          "execution_count": 21
        }
      ]
    },
    {
      "cell_type": "code",
      "source": [
        "  #6. Demonstrate runtime polymorphism using a method play() in a base class Instrument. Derive classes Guitar and Piano that implement their own version of play().\n",
        "\n",
        "class Instrument:\n",
        "    def play(self):\n",
        "        print(\"Playing an instrument\")\n",
        "\n",
        "class Guitar(Instrument):\n",
        "    def play(self):\n",
        "        print(\"Strumming the guitar 🎸\")\n",
        "\n",
        "class Piano(Instrument):\n",
        "    def play(self):\n",
        "        print(\"Playing the piano 🎹\")\n",
        "\n",
        "# Polymorphism in action\n",
        "def show_instrument_playing(instrument):\n",
        "    instrument.play()  # Which version of play() gets called depends on the object passed\n",
        "\n",
        "# Create objects\n",
        "g = Guitar()\n",
        "p = Piano()\n",
        "\n",
        "# Demonstrate runtime polymorphism\n",
        "show_instrument_playing(g)\n",
        "show_instrument_playing(p)\n"
      ],
      "metadata": {
        "colab": {
          "base_uri": "https://localhost:8080/"
        },
        "id": "9P-P0kVS7mRG",
        "outputId": "ea0e72c4-ab87-48f2-db1e-1efd158f938c"
      },
      "execution_count": 22,
      "outputs": [
        {
          "output_type": "stream",
          "name": "stdout",
          "text": [
            "Strumming the guitar 🎸\n",
            "Playing the piano 🎹\n"
          ]
        }
      ]
    },
    {
      "cell_type": "code",
      "source": [
        "#Create a class MathOperations with a class method add_numbers() to add two numbers and a static method subtract_numbers() to subtract two numbers.\n",
        "\n",
        "class MathOperations:\n",
        "\n",
        "    @classmethod\n",
        "    def add_numbers(cls, a, b):\n",
        "        return a + b\n",
        "\n",
        "    @staticmethod\n",
        "    def subtract_numbers(a, b):\n",
        "        return a - b\n",
        "\n",
        "# Using the class method\n",
        "sum_result = MathOperations.add_numbers(10, 5)\n",
        "print(\"Sum:\", sum_result)\n",
        "\n",
        "# Using the static method\n",
        "sub_result = MathOperations.subtract_numbers(10, 5)\n",
        "print(\"subtract:\", sub_result)\n"
      ],
      "metadata": {
        "colab": {
          "base_uri": "https://localhost:8080/"
        },
        "id": "C3FBe26W8PAg",
        "outputId": "5e5948c5-61c7-4d83-f21f-204faa31343e"
      },
      "execution_count": 24,
      "outputs": [
        {
          "output_type": "stream",
          "name": "stdout",
          "text": [
            "Sum: 15\n",
            "subtract: 5\n"
          ]
        }
      ]
    },
    {
      "cell_type": "code",
      "source": [
        "#8. Implement a class Person with a class method to count the total number of persons created.\n",
        "class Person:\n",
        "    count = 0  # Class variable to store total persons\n",
        "\n",
        "    def __init__(self, name):\n",
        "        self.name = name\n",
        "        Person.count += 1  # Increase count when a new person is created\n",
        "\n",
        "    @classmethod\n",
        "    def total_persons(cls):\n",
        "        print(\"Total persons created:\", cls.count)\n",
        "\n",
        "# Creating person objects\n",
        "p1 = Person(\"Alice\")\n",
        "p2 = Person(\"Bob\")\n",
        "p3 = Person(\"Charlie\")\n",
        "\n",
        "# Call class method to show total persons\n",
        "Person.total_persons()\n"
      ],
      "metadata": {
        "colab": {
          "base_uri": "https://localhost:8080/"
        },
        "id": "VNuLM_YV9L7M",
        "outputId": "f589f5dc-8c20-4435-b1f1-3b4e1ce29411"
      },
      "execution_count": 25,
      "outputs": [
        {
          "output_type": "stream",
          "name": "stdout",
          "text": [
            "Total persons created: 3\n"
          ]
        }
      ]
    },
    {
      "cell_type": "code",
      "source": [
        "#9. Write a class Fraction with attributes numerator and denominator. Override the str method to display the fraction as \"numerator/denominator\".\n",
        "\n",
        "class Fraction:\n",
        "    def __init__(self, numerator, denominator):\n",
        "        self.numerator = numerator\n",
        "        self.denominator = denominator\n",
        "\n",
        "    def __str__(self):\n",
        "        return f\"{self.numerator}/{self.denominator}\"\n",
        "\n",
        "# Creating fraction objects\n",
        "f1 = Fraction(3, 4)\n",
        "f2 = Fraction(5, 8)\n",
        "\n",
        "# Printing the fractions\n",
        "print(\"Fraction 1:\", f1)\n",
        "print(\"Fraction 2:\", f2)\n"
      ],
      "metadata": {
        "colab": {
          "base_uri": "https://localhost:8080/"
        },
        "id": "_hBSKiGQ9tG2",
        "outputId": "9788ed24-0c5b-476e-bc84-dffbd2e4ea41"
      },
      "execution_count": 26,
      "outputs": [
        {
          "output_type": "stream",
          "name": "stdout",
          "text": [
            "Fraction 1: 3/4\n",
            "Fraction 2: 5/8\n"
          ]
        }
      ]
    },
    {
      "cell_type": "code",
      "source": [
        "#10 Demonstrate operator overloading by creating a class Vector and overriding the add method to add two vectors.\n",
        "class Vector:\n",
        "    def __init__(self, x, y):\n",
        "        self.x = x\n",
        "        self.y = y\n",
        "\n",
        "    # Overloading the + operator\n",
        "    def __add__(self, other):\n",
        "        return Vector(self.x + other.x, self.y + other.y)\n",
        "\n",
        "    def __str__(self):\n",
        "        return f\"Vector({self.x}, {self.y})\"\n",
        "\n",
        "# Creating two vector objects\n",
        "v1 = Vector(2, 3)\n",
        "v2 = Vector(4, 5)\n",
        "\n",
        "# Adding vectors using overloaded +\n",
        "v3 = v1 + v2\n",
        "\n",
        "# Printing the result\n",
        "print(\"v1:\", v1)\n",
        "print(\"v2:\", v2)\n",
        "print(\"v1 + v2 =\", v3)\n"
      ],
      "metadata": {
        "colab": {
          "base_uri": "https://localhost:8080/"
        },
        "id": "l9Fbsgnl9_Ff",
        "outputId": "8b3ffe2f-5038-4dce-a2ae-415e85b594dc"
      },
      "execution_count": 27,
      "outputs": [
        {
          "output_type": "stream",
          "name": "stdout",
          "text": [
            "v1: Vector(2, 3)\n",
            "v2: Vector(4, 5)\n",
            "v1 + v2 = Vector(6, 8)\n"
          ]
        }
      ]
    },
    {
      "cell_type": "code",
      "source": [
        "#11. Create a class Person with attributes name and age. Add a method greet() that prints \"Hello, my name is {name} and I am {age} years old.\"\n",
        "class Person:\n",
        "    def __init__(self, name, age):\n",
        "        self.name = name\n",
        "        self.age = age\n",
        "\n",
        "    def greet(self):\n",
        "        print(f\"Hello, my name is {self.name} and I am {self.age} years old.\")\n",
        "\n",
        "# Creating person object\n",
        "p1 = Person(\"Suraj\", 22)\n",
        "\n",
        "# Calling the greet method\n",
        "p1.greet()\n"
      ],
      "metadata": {
        "colab": {
          "base_uri": "https://localhost:8080/"
        },
        "id": "aeJOcimQ-G__",
        "outputId": "66ef1592-41ca-4b49-bfd3-446981274ff7"
      },
      "execution_count": 28,
      "outputs": [
        {
          "output_type": "stream",
          "name": "stdout",
          "text": [
            "Hello, my name is Suraj and I am 22 years old.\n"
          ]
        }
      ]
    },
    {
      "cell_type": "code",
      "source": [
        "#12. Implement a class Student with attributes name and grades. Create a method average_grade() to compute the average of the grades.\n",
        "\n",
        "class Student:\n",
        "    def __init__(self, name, grades):\n",
        "        self.name = name\n",
        "        self.grades = grades  # Expecting a list of numbers\n",
        "\n",
        "    def average_grade(self):\n",
        "        if len(self.grades) == 0:\n",
        "            return 0\n",
        "        return sum(self.grades) / len(self.grades)\n",
        "\n",
        "# Creating a student object\n",
        "s1 = Student(\"Suraj\", [85, 90, 78, 92])\n",
        "\n",
        "# Printing average grade\n",
        "print(f\"{s1.name}'s average grade is:\", s1.average_grade())\n"
      ],
      "metadata": {
        "colab": {
          "base_uri": "https://localhost:8080/"
        },
        "id": "76xuPFde-T_u",
        "outputId": "2c7591f4-3e27-408c-8c39-10d4d20a2a0a"
      },
      "execution_count": 29,
      "outputs": [
        {
          "output_type": "stream",
          "name": "stdout",
          "text": [
            "Suraj's average grade is: 86.25\n"
          ]
        }
      ]
    },
    {
      "cell_type": "code",
      "source": [
        "#13. Create a class Rectangle with methods set_dimensions() to set the dimensions and area() to calculate the area.\n",
        "\n",
        "class Rectangle:\n",
        "    def __init__(self):\n",
        "        self.length = 0\n",
        "        self.width = 0\n",
        "\n",
        "    def set_dimensions(self, length, width):\n",
        "        self.length = length\n",
        "        self.width = width\n",
        "\n",
        "    def area(self):\n",
        "        return self.length * self.width\n",
        "\n",
        "# Creating a rectangle object\n",
        "rect = Rectangle()\n",
        "\n",
        "# Setting dimensions\n",
        "rect.set_dimensions(5, 3)\n",
        "\n",
        "# Calculating and printing area\n",
        "print(\"Area of rectangle:\", rect.area())\n"
      ],
      "metadata": {
        "colab": {
          "base_uri": "https://localhost:8080/"
        },
        "id": "MUfwe4KW-lLE",
        "outputId": "153f3adb-ed80-4928-8707-ecac489bb578"
      },
      "execution_count": 30,
      "outputs": [
        {
          "output_type": "stream",
          "name": "stdout",
          "text": [
            "Area of rectangle: 15\n"
          ]
        }
      ]
    },
    {
      "cell_type": "code",
      "source": [
        "#14. Create a class Employee with a method calculate_salary() that computes the salary based on hours worked and hourly rate. Create a derived class Manager that adds a bonus to the salary.\n",
        "class Employee:\n",
        "    def __init__(self, hours_worked, hourly_rate):\n",
        "        self.hours_worked = hours_worked\n",
        "        self.hourly_rate = hourly_rate\n",
        "\n",
        "    def calculate_salary(self):\n",
        "        return self.hours_worked * self.hourly_rate\n",
        "\n",
        "class Manager(Employee):\n",
        "    def __init__(self, hours_worked, hourly_rate, bonus):\n",
        "        super().__init__(hours_worked, hourly_rate)\n",
        "        self.bonus = bonus\n",
        "\n",
        "    def calculate_salary(self):\n",
        "        base_salary = super().calculate_salary()\n",
        "        return base_salary + self.bonus\n",
        "\n",
        "# Creating Employee and Manager objects\n",
        "emp = Employee(40, 200)\n",
        "mgr = Manager(40, 200, 5000)\n",
        "\n",
        "# Calculating salaries\n",
        "print(\"Employee salary:\", emp.calculate_salary())\n",
        "print(\"Manager salary with bonus:\", mgr.calculate_salary())\n",
        "\n"
      ],
      "metadata": {
        "colab": {
          "base_uri": "https://localhost:8080/"
        },
        "id": "nL_puh_G-r8P",
        "outputId": "89af104a-b523-4742-c1f0-d5864b574bd3"
      },
      "execution_count": 31,
      "outputs": [
        {
          "output_type": "stream",
          "name": "stdout",
          "text": [
            "Employee salary: 8000\n",
            "Manager salary with bonus: 13000\n"
          ]
        }
      ]
    },
    {
      "cell_type": "code",
      "source": [
        "#15. Create a class Product with attributes name, price, and quantity. Implement a method total_price() that calculates the total price of the product.\n",
        "\n",
        "class Product:\n",
        "    def __init__(self, name, price, quantity):\n",
        "        self.name = name\n",
        "        self.price = price\n",
        "        self.quantity = quantity\n",
        "\n",
        "    def total_price(self):\n",
        "        return self.price * self.quantity\n",
        "\n",
        "# Creating a product object\n",
        "p = Product(\"Laptop\", 50000, 3)\n",
        "\n",
        "# Calculating and printing total price\n",
        "print(f\"Total price of {p.name} is:\", p.total_price())\n"
      ],
      "metadata": {
        "colab": {
          "base_uri": "https://localhost:8080/"
        },
        "id": "VM4dJmp6-4ej",
        "outputId": "145f2183-75b8-49db-d78a-f55080ee7f93"
      },
      "execution_count": 32,
      "outputs": [
        {
          "output_type": "stream",
          "name": "stdout",
          "text": [
            "Total price of Laptop is: 150000\n"
          ]
        }
      ]
    },
    {
      "cell_type": "code",
      "source": [
        "#16. Create a class Animal with an abstract method sound(). Create two derived classes Cow and Sheep that implement the sound() method.\n",
        "\n",
        "from abc import ABC, abstractmethod\n",
        "\n",
        "class Animal(ABC):\n",
        "    @abstractmethod\n",
        "    def sound(self):\n",
        "        pass\n",
        "\n",
        "class Cow(Animal):\n",
        "    def sound(self):\n",
        "        print(\"Cow says: Moo\")\n",
        "\n",
        "class Sheep(Animal):\n",
        "    def sound(self):\n",
        "        print(\"Sheep says: Baa\")\n",
        "\n",
        "# Creating objects\n",
        "cow = Cow()\n",
        "sheep = Sheep()\n",
        "\n",
        "# Calling sound methods\n",
        "cow.sound()\n",
        "sheep.sound()\n"
      ],
      "metadata": {
        "colab": {
          "base_uri": "https://localhost:8080/"
        },
        "id": "Qf0WuiQ7_BgB",
        "outputId": "709fd1a1-64dc-491f-9f9d-bd7fed93cdf5"
      },
      "execution_count": 33,
      "outputs": [
        {
          "output_type": "stream",
          "name": "stdout",
          "text": [
            "Cow says: Moo\n",
            "Sheep says: Baa\n"
          ]
        }
      ]
    },
    {
      "cell_type": "code",
      "source": [
        "#17. Create a class Book with attributes title, author, and year_published. Add a method get_book_info() that returns a formatted string with the book's details\n",
        "\n",
        "class Book:\n",
        "    def __init__(self, title, author, year_published):\n",
        "        self.title = title\n",
        "        self.author = author\n",
        "        self.year_published = year_published\n",
        "\n",
        "    def get_book_info(self):\n",
        "        return f\"'{self.title}' by {self.author}, published in {self.year_published}\"\n",
        "\n",
        "# Creating a Book object\n",
        "book = Book(\"1984\", \"George Orwell\", 1949)\n",
        "\n",
        "# Printing book info\n",
        "print(book.get_book_info())\n"
      ],
      "metadata": {
        "colab": {
          "base_uri": "https://localhost:8080/"
        },
        "id": "Uwxxk_B8_KKk",
        "outputId": "0bf40e1b-bb4a-4e10-e269-ce1408ac97e2"
      },
      "execution_count": 34,
      "outputs": [
        {
          "output_type": "stream",
          "name": "stdout",
          "text": [
            "'1984' by George Orwell, published in 1949\n"
          ]
        }
      ]
    },
    {
      "cell_type": "code",
      "source": [
        "#18. Create a class House with attributes address and price. Create a derived class Mansion that adds an attribute number_of_rooms.\n",
        "class House:\n",
        "    def __init__(self, address, price):\n",
        "        self.address = address\n",
        "        self.price = price\n",
        "\n",
        "class Mansion(House):\n",
        "    def __init__(self, address, price, number_of_rooms):\n",
        "        super().__init__(address, price)  # Initialize base class attributes\n",
        "        self.number_of_rooms = number_of_rooms\n",
        "\n",
        "# Creating Mansion object\n",
        "mansion = Mansion(\"123 Luxury St\", 1000000, 10)\n",
        "\n",
        "# Printing mansion details\n",
        "print(\"Address:\", mansion.address)\n",
        "print(\"Price:\", mansion.price)\n",
        "print(\"Number of rooms:\", mansion.number_of_rooms)\n"
      ],
      "metadata": {
        "colab": {
          "base_uri": "https://localhost:8080/"
        },
        "id": "dPOJlg_N_Ueu",
        "outputId": "d622ae9b-299d-4678-feba-702375212e4d"
      },
      "execution_count": 35,
      "outputs": [
        {
          "output_type": "stream",
          "name": "stdout",
          "text": [
            "Address: 123 Luxury St\n",
            "Price: 1000000\n",
            "Number of rooms: 10\n"
          ]
        }
      ]
    },
    {
      "cell_type": "code",
      "source": [],
      "metadata": {
        "id": "Gygq-2td_d8X"
      },
      "execution_count": null,
      "outputs": []
    }
  ]
}